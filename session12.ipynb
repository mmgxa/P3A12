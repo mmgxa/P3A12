{
 "cells": [
  {
   "cell_type": "code",
   "execution_count": 1,
   "id": "870be0bd",
   "metadata": {},
   "outputs": [],
   "source": [
    "import math"
   ]
  },
  {
   "cell_type": "markdown",
   "id": "65069dde",
   "metadata": {},
   "source": [
    "# Question 1"
   ]
  },
  {
   "cell_type": "code",
   "execution_count": 2,
   "id": "f12dbd59",
   "metadata": {},
   "outputs": [],
   "source": [
    "class Polygon:\n",
    "    '''\n",
    "    A Polygon Class which is intitialized with number of edges and its circumradius.\n",
    "\n",
    "    Its properties such as interior angle, edge lengths, apothem, area, and perimeter are calculated,\n",
    "    and can be accessed as key (p['n_edge']) or as property (p.n_edge).\n",
    "\n",
    "    The former will give a soft warning and continue for a wrong key; the latter will halt if \n",
    "    the incorrect property is asked.\n",
    "    '''\n",
    "\n",
    "    def __init__(self, n_edge: int, circumradius: int) -> None:\n",
    "\n",
    "        if n_edge < 3:\n",
    "            raise ValueError(\n",
    "                'The number of edges must be atleast 3 for a Polygon!')\n",
    "\n",
    "        if circumradius < 0:\n",
    "            raise ValueError(\n",
    "                'The circumradius of a Polygon cannot be negative!')\n",
    "\n",
    "        self.n_edge_i = n_edge\n",
    "        self.circumradius_i = circumradius\n",
    "        self.int_angle_i = None\n",
    "        self.edgelen_i = None \n",
    "        self.apothem_i = None\n",
    "        self.area_i = None\n",
    "        self.perimeter_i = None\n",
    "\n",
    "    @property\n",
    "    def n_vertices(self):\n",
    "        return self.n_edge_i\n",
    "\n",
    "    @property\n",
    "    def n_edge(self) -> int:\n",
    "        return self.n_edge_i\n",
    "\n",
    "    @property\n",
    "    def circumradius(self) -> int:\n",
    "        return self.circumradius_i\n",
    "\n",
    "    @property\n",
    "    def int_angle(self) -> float:\n",
    "        if self.int_angle_i is not None:\n",
    "            return self.int_angle_i\n",
    "        else:\n",
    "            self.int_angle_i = (self.n_edge - 2)*(180/self.n_edge)\n",
    "            return self.int_angle_i\n",
    "\n",
    "    @property\n",
    "    def edgelen(self) -> float:\n",
    "        if self.edgelen_i is not None:\n",
    "            return self.edgelen_i\n",
    "        else:\n",
    "            self.edgelen_i = round(2*self.circumradius*math.sin(math.pi/self.n_edge), 3)\n",
    "            return self.edgelen_i\n",
    "\n",
    "    @property\n",
    "    def apothem(self) -> float:\n",
    "        if self.apothem_i is not None:\n",
    "            return self.apothem_i\n",
    "        else:\n",
    "            self.apothem_i = round(self.circumradius * math.cos(math.pi/self.n_edge), 3)\n",
    "            return self.apothem_i\n",
    "\n",
    "    @property\n",
    "    def area(self) -> float:\n",
    "        if self.area_i is not None:\n",
    "            return self.area_i\n",
    "        else:\n",
    "            self.area_i = round(0.5*self.n_edge * self.edgelen * self.apothem, 3)\n",
    "            return self.area_i\n",
    "\n",
    "    @property\n",
    "    def perimeter(self) -> float:\n",
    "        if self.perimeter_i is not None:\n",
    "            return self.perimeter_i\n",
    "        else:            \n",
    "            self.perimeter_i = round(self.n_edge * self.edgelen, 3)\n",
    "            return self.perimeter_i\n",
    "\n",
    "    def __getitem__(self, str):\n",
    "        '''\n",
    "        What to return when the properties of the object is passed as key \n",
    "        '''\n",
    "        try:\n",
    "            print(getattr(self, str))\n",
    "        except AttributeError:\n",
    "            print(\n",
    "                'Key must be one of these: n_edge/circumradius/int_angle/edgelen/apothem/area/perimeter')\n",
    "\n",
    "    def __repr__(self) -> str:\n",
    "        '''\n",
    "        How the output appears when the object is printed.\n",
    "        '''\n",
    "        return f'Polygon(n={self.n_edge_i}, R={self.circumradius_i})'\n",
    "        \n",
    "\n",
    "    def __eq__(self, other):\n",
    "        '''\n",
    "        This compares two objects based on the Polygon Class based on their\n",
    "        number of edges and circumradius ...\n",
    "        '''\n",
    "        if not isinstance(other, Polygon):\n",
    "            raise TypeError(\n",
    "                f'Second argument: Expected {type(self)} ; Found {type(other)}')\n",
    "        return (self.n_edge == other.n_edge) and (self.circumradius == other.circumradius)\n",
    "\n",
    "    def __gt__(self, other):\n",
    "        '''\n",
    "        This compares two objects based on the Polygon Class based on their\n",
    "        number of edges only!\n",
    "        '''\n",
    "        if not isinstance(other, Polygon):\n",
    "            raise TypeError(\n",
    "                f'Second argument: Expected {type(self)} ; Found {type(other)}')\n",
    "        return self.n_edge > other.n_edge"
   ]
  },
  {
   "cell_type": "code",
   "execution_count": 3,
   "id": "6e10b811",
   "metadata": {},
   "outputs": [],
   "source": [
    "pol = Polygon(3, 3)"
   ]
  },
  {
   "cell_type": "markdown",
   "id": "e0c86a2e",
   "metadata": {},
   "source": [
    "## The `__repr__` function"
   ]
  },
  {
   "cell_type": "code",
   "execution_count": 4,
   "id": "f3d1ca7d",
   "metadata": {
    "scrolled": true
   },
   "outputs": [
    {
     "name": "stdout",
     "output_type": "stream",
     "text": [
      "Polygon(n=3, R=3)\n"
     ]
    }
   ],
   "source": [
    "print(pol)"
   ]
  },
  {
   "cell_type": "markdown",
   "id": "f1b4b4d8",
   "metadata": {},
   "source": [
    "## The `__eq__` function"
   ]
  },
  {
   "cell_type": "code",
   "execution_count": 5,
   "id": "b92973de",
   "metadata": {},
   "outputs": [
    {
     "name": "stdout",
     "output_type": "stream",
     "text": [
      "True\n"
     ]
    }
   ],
   "source": [
    "pol1 = Polygon(3, 3)\n",
    "pol2 = Polygon(3, 3)\n",
    "print(pol1 == pol2)"
   ]
  },
  {
   "cell_type": "code",
   "execution_count": 6,
   "id": "efbc8371",
   "metadata": {},
   "outputs": [
    {
     "name": "stdout",
     "output_type": "stream",
     "text": [
      "False\n"
     ]
    }
   ],
   "source": [
    "pol1 = Polygon(3, 3)\n",
    "pol2 = Polygon(4, 3)\n",
    "print(pol1 == pol2)"
   ]
  },
  {
   "cell_type": "markdown",
   "id": "ee3f71d2",
   "metadata": {},
   "source": [
    "## The `__gt__` function"
   ]
  },
  {
   "cell_type": "code",
   "execution_count": 7,
   "id": "81858563",
   "metadata": {},
   "outputs": [
    {
     "name": "stdout",
     "output_type": "stream",
     "text": [
      "True\n"
     ]
    }
   ],
   "source": [
    "pol1 = Polygon(3, 3)\n",
    "pol2 = Polygon(4, 3)\n",
    "print(pol1 < pol2)"
   ]
  },
  {
   "cell_type": "code",
   "execution_count": 8,
   "id": "3a4b5aff",
   "metadata": {},
   "outputs": [
    {
     "name": "stdout",
     "output_type": "stream",
     "text": [
      "False\n"
     ]
    }
   ],
   "source": [
    "pol1 = Polygon(3, 3)\n",
    "pol2 = Polygon(4, 3)\n",
    "print(pol1 > pol2)"
   ]
  },
  {
   "cell_type": "markdown",
   "id": "84b52aa7",
   "metadata": {},
   "source": [
    "## Properties"
   ]
  },
  {
   "cell_type": "code",
   "execution_count": 9,
   "id": "78e14988",
   "metadata": {},
   "outputs": [
    {
     "name": "stdout",
     "output_type": "stream",
     "text": [
      "3\n",
      "3\n",
      "60.0\n",
      "5.196\n",
      "1.5\n",
      "11.691\n",
      "15.588\n"
     ]
    }
   ],
   "source": [
    "pol = Polygon(3, 3)\n",
    "for prop in ['n_edge', 'circumradius', 'int_angle', 'edgelen', 'apothem', 'area', 'perimeter']:\n",
    "    print(getattr(pol, prop))"
   ]
  },
  {
   "cell_type": "markdown",
   "id": "7e0691b7",
   "metadata": {},
   "source": [
    "## Test Cases"
   ]
  },
  {
   "cell_type": "code",
   "execution_count": 10,
   "id": "d1b9568c",
   "metadata": {},
   "outputs": [],
   "source": [
    "def test_class():\n",
    "    pol1 = Polygon(3, 3)\n",
    "    pol2 = Polygon(3, 3)\n",
    "    pol3 = Polygon(4, 3)\n",
    "    assert str(pol1), \"Your repr function is missing\"\n",
    "    assert pol1 == pol2, 'Your equality function is bogus'\n",
    "    assert pol2 != pol3, 'Your equality function is bogus'\n",
    "    assert pol2 < pol3, 'Your greater function is bogus'\n",
    "    assert (pol2 > pol3) == False, 'Your greater function is bogus'\n",
    "    for prop in ['n_edge', 'circumradius', 'int_angle', 'edgelen', 'apothem', 'area', 'perimeter']:\n",
    "        assert getattr(\n",
    "            pol1, prop), 'At least one of the required attributes is missing!'\n",
    "    \n"
   ]
  },
  {
   "cell_type": "code",
   "execution_count": 11,
   "id": "b8943018",
   "metadata": {},
   "outputs": [],
   "source": [
    "test_class()"
   ]
  },
  {
   "cell_type": "markdown",
   "id": "67fd2f73",
   "metadata": {},
   "source": [
    "# Question 2"
   ]
  },
  {
   "cell_type": "code",
   "execution_count": 12,
   "id": "bb4cec0e",
   "metadata": {},
   "outputs": [],
   "source": [
    "class PolySeq():\n",
    "    def __init__(self, max_edges: int, common_circumradius: int):\n",
    "\n",
    "        if max_edges < 3:\n",
    "            raise ValueError(\n",
    "                'The maximum number of edges must be atleast 3 for any Polygon!')\n",
    "\n",
    "        if common_circumradius <= 0:\n",
    "            raise ValueError(\n",
    "                'The common circumradius of a Polygon cannot be negative!')\n",
    "\n",
    "        self.max_edges = max_edges\n",
    "        self.common_circumradius = common_circumradius\n",
    "\n",
    "        self.polygons = [Polygon(i, common_circumradius) for i in range(3, max_edges+1)]\n",
    "\n",
    "\n",
    "    def __repr__(self) -> str:\n",
    "        '''\n",
    "        How the output appears when the object is printed.\n",
    "        '''\n",
    "        return (f'This Polygon Sequence contains polygons with the following properties:' + f'\\n'\n",
    "                f'\\t' + f'Sides: From 3 to {self.max_edges},' + f'\\n'\n",
    "                f'\\t' + f'Common circumradius = {self.common_circumradius},')\n",
    "\n",
    "    @property\n",
    "    def max_effic(self):\n",
    "        sorted_polygons = sorted(self.polygons, \n",
    "                                 key=lambda p: p.area/p.perimeter,\n",
    "                                reverse=True)\n",
    "        return sorted_polygons[0]\n",
    "\n",
    "    def __iter__(self):\n",
    "        '''\n",
    "        This method returns the iterator sub-class\n",
    "        '''\n",
    "        return self.PolySeqIter(self.max_edges, self.common_circumradius)\n",
    "\n",
    "    class PolySeqIter:\n",
    "        '''\n",
    "        This is an iterator implemented as a sub-class\n",
    "        '''\n",
    "\n",
    "        def __init__(self, max_edges, common_circumradius):\n",
    "            self.max_edges = max_edges\n",
    "            self.common_circumradius = common_circumradius\n",
    "            self.i = 3\n",
    "\n",
    "        def __len__(self):\n",
    "            return self.max_edges - 2\n",
    "\n",
    "        def __iter__(self):\n",
    "            return self\n",
    "\n",
    "        def __next__(self):\n",
    "            if self.i > self.max_edges:\n",
    "                raise StopIteration\n",
    "            else:\n",
    "                pol = Polygon(self.i, self.common_circumradius)\n",
    "                self.i += 1\n",
    "                return pol"
   ]
  },
  {
   "cell_type": "code",
   "execution_count": 13,
   "id": "30a05a8a",
   "metadata": {},
   "outputs": [],
   "source": [
    "polseq = PolySeq(25, 15)"
   ]
  },
  {
   "cell_type": "markdown",
   "id": "f2582dce",
   "metadata": {},
   "source": [
    "## The `__repr__` function"
   ]
  },
  {
   "cell_type": "code",
   "execution_count": 14,
   "id": "e0c13a28",
   "metadata": {
    "scrolled": true
   },
   "outputs": [
    {
     "name": "stdout",
     "output_type": "stream",
     "text": [
      "This Polygon Sequence contains polygons with the following properties:\n",
      "\tSides: From 3 to 25,\n",
      "\tCommon circumradius = 15,\n"
     ]
    }
   ],
   "source": [
    "print(polseq)"
   ]
  },
  {
   "cell_type": "markdown",
   "id": "fda9e5fa",
   "metadata": {},
   "source": [
    "## Properties"
   ]
  },
  {
   "cell_type": "code",
   "execution_count": 15,
   "id": "1a658208",
   "metadata": {},
   "outputs": [
    {
     "name": "stdout",
     "output_type": "stream",
     "text": [
      "Polygon(n=25, R=15)\n"
     ]
    }
   ],
   "source": [
    "print(getattr(polseq, 'max_effic'))"
   ]
  },
  {
   "cell_type": "markdown",
   "id": "efd76a1e",
   "metadata": {},
   "source": [
    "## Test Cases"
   ]
  },
  {
   "cell_type": "code",
   "execution_count": 16,
   "id": "e2eaed02",
   "metadata": {},
   "outputs": [],
   "source": [
    "def test_seq():\n",
    "    polseq = PolySeq(25, 15)\n",
    "    assert str(polseq), \"Your repr function is missing\"\n",
    "    assert getattr(\n",
    "        polseq, 'max_effic'), 'The maximum efficiency property is missing!'\n"
   ]
  },
  {
   "cell_type": "code",
   "execution_count": 17,
   "id": "c6099754",
   "metadata": {},
   "outputs": [],
   "source": [
    "test_seq()"
   ]
  },
  {
   "cell_type": "markdown",
   "id": "a03b1c45",
   "metadata": {},
   "source": [
    "## Iterators and Iterables"
   ]
  },
  {
   "cell_type": "code",
   "execution_count": 18,
   "id": "ccf85811",
   "metadata": {},
   "outputs": [],
   "source": [
    "def test_seq_iterable():\n",
    "    '''\n",
    "    Check whether the Polygon Sequence is an iterator or not\n",
    "    '''\n",
    "    polseq = PolySeq(3, 3)\n",
    "    assert ('__next__' in dir(polseq)) == False, \"Your Sequence is an iterator!\"\n",
    "    assert '__iter__' in dir(polseq), \"Your Sequence is not an iterable\"\n",
    "    assert '__next__' in dir(polseq.PolySeqIter), \"Your Sequence Iterator is not an iterator\"\n",
    "    assert '__iter__' in dir(polseq.PolySeqIter), \"Your Sequence Iterator is not an iterator\""
   ]
  },
  {
   "cell_type": "code",
   "execution_count": 19,
   "id": "b14ee831",
   "metadata": {},
   "outputs": [],
   "source": [
    "test_seq_iterable()"
   ]
  }
 ],
 "metadata": {
  "kernelspec": {
   "display_name": "default",
   "language": "python",
   "name": "python3"
  },
  "language_info": {
   "codemirror_mode": {
    "name": "ipython",
    "version": 3
   },
   "file_extension": ".py",
   "mimetype": "text/x-python",
   "name": "python",
   "nbconvert_exporter": "python",
   "pygments_lexer": "ipython3",
   "version": "3.8.10"
  }
 },
 "nbformat": 4,
 "nbformat_minor": 5
}
